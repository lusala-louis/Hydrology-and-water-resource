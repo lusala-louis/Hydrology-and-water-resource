{
  "nbformat": 4,
  "nbformat_minor": 0,
  "metadata": {
    "colab": {
      "provenance": [],
      "authorship_tag": "ABX9TyN6+Os5w4kXLj8FK7o7Lvqk",
      "include_colab_link": true
    },
    "kernelspec": {
      "name": "python3",
      "display_name": "Python 3"
    },
    "language_info": {
      "name": "python"
    }
  },
  "cells": [
    {
      "cell_type": "markdown",
      "metadata": {
        "id": "view-in-github",
        "colab_type": "text"
      },
      "source": [
        "<a href=\"https://colab.research.google.com/github/lusala-louis/Hydrology-and-water-resource/blob/main/Hydrological_analysis.ipynb\" target=\"_parent\"><img src=\"https://colab.research.google.com/assets/colab-badge.svg\" alt=\"Open In Colab\"/></a>"
      ]
    },
    {
      "cell_type": "markdown",
      "source": [],
      "metadata": {
        "id": "jRrkFvyRIPR0"
      }
    },
    {
      "cell_type": "markdown",
      "source": [
        "# Analysis of Faulty Rainfall Records\n",
        "## Normal Ratio Method\n",
        "Approximating missing rainfall records by the “Normal Ratio Method” using the records of the three closest rain gauge stations i.e.,\n",
        "\\begin{align}\n",
        "P = \\frac{1}{3}[\\frac{N_{4}}{N_{1}}P_{1} + \\frac{N_{4}}{N_{2}}P_{2} + \\frac{N_{4}}{N_{3}}P_{3}]\n",
        "\\end{align}\n",
        "\n",
        "Where P4 is the precipitation at the missing location; N1, N2, N3 and N4 are the normal annual precipitation of the four stations."
      ],
      "metadata": {
        "id": "9SbWNAXHKzFZ"
      }
    },
    {
      "cell_type": "code",
      "execution_count": 3,
      "metadata": {
        "id": "Yitgp_WKDVbU"
      },
      "outputs": [],
      "source": []
    }
  ]
}