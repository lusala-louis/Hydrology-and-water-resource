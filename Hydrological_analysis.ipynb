{
  "nbformat": 4,
  "nbformat_minor": 0,
  "metadata": {
    "colab": {
      "provenance": [],
      "authorship_tag": "ABX9TyP1nNAXTezwgN2zLFSGXmaa",
      "include_colab_link": true
    },
    "kernelspec": {
      "name": "python3",
      "display_name": "Python 3"
    },
    "language_info": {
      "name": "python"
    }
  },
  "cells": [
    {
      "cell_type": "markdown",
      "metadata": {
        "id": "view-in-github",
        "colab_type": "text"
      },
      "source": [
        "<a href=\"https://colab.research.google.com/github/lusala-louis/Hydrology-and-water-resource/blob/main/Hydrological_analysis.ipynb\" target=\"_parent\"><img src=\"https://colab.research.google.com/assets/colab-badge.svg\" alt=\"Open In Colab\"/></a>"
      ]
    },
    {
      "cell_type": "markdown",
      "source": [],
      "metadata": {
        "id": "jRrkFvyRIPR0"
      }
    },
    {
      "cell_type": "markdown",
      "source": [
        "# Analysis of Faulty Rainfall Records\n",
        "## Normal Ratio Method\n",
        "Approximating missing rainfall records by the “Normal Ratio Method” using the records of the three closest rain gauge stations i.e.,\n",
        "\\begin{align}\n",
        "P = \\frac{1}{3}[\\frac{N_{4}}{N_{1}}P_{1} + \\frac{N_{4}}{N_{2}}P_{2} + \\frac{N_{4}}{N_{3}}P_{3}]\n",
        "\\end{align}\n",
        "\n",
        "Where P4 is the precipitation at the missing location; N1, N2, N3 and N4 are the normal annual precipitation of the four stations."
      ],
      "metadata": {
        "id": "9SbWNAXHKzFZ"
      }
    },
    {
      "cell_type": "code",
      "execution_count": 2,
      "metadata": {
        "id": "Yitgp_WKDVbU",
        "colab": {
          "base_uri": "https://localhost:8080/"
        },
        "outputId": "c7d036f7-8cc2-4a71-dd4a-86c87d02a298"
      },
      "outputs": [
        {
          "name": "stdout",
          "output_type": "stream",
          "text": [
            "Enter the normal anual precipitation of station 1:30\n",
            "Enter the normal anual precipitation of station 2:20\n",
            "Enter the normal anual precipitation of station 3:10\n",
            "Enter the normal anual precipitation of station 4:15\n",
            "Enter the recorded precipitation of station 1:28\n",
            "Enter the recorded precipitation of station 2:21\n",
            "Enter the recorded precipitation of station 3:13\n"
          ]
        }
      ],
      "source": [
        "N1 = int(input(\"Enter the normal anual precipitation of station 1:\"))\n",
        "N2 = int(input(\"Enter the normal anual precipitation of station 2:\"))\n",
        "N3 = int(input(\"Enter the normal anual precipitation of station 3:\"))\n",
        "N4 = int(input(\"Enter the normal anual precipitation of station 4:\"))\n",
        "\n",
        "P1 = int(input(\"Enter the recorded precipitation of station 1:\"))\n",
        "P2 = int(input(\"Enter the recorded precipitation of station 2:\"))\n",
        "P3 = int(input(\"Enter the recorded precipitation of station 3:\"))"
      ]
    },
    {
      "cell_type": "code",
      "source": [
        "P4 = 1/3*((N4/N1)*P1 + (N4/N2)*P2 + (N4/N3)*P3)\n",
        "print(P4)"
      ],
      "metadata": {
        "colab": {
          "base_uri": "https://localhost:8080/"
        },
        "id": "FveXopBJ0uKu",
        "outputId": "220b8058-0842-49eb-dcdf-d365641bbd91"
      },
      "execution_count": 4,
      "outputs": [
        {
          "output_type": "stream",
          "name": "stdout",
          "text": [
            "16.416666666666664\n"
          ]
        }
      ]
    },
    {
      "cell_type": "markdown",
      "source": [
        "# Methods of Calculating Rainfall Depth\n",
        "## Arithemtic Mean Method\n",
        "It takes the average of rainfall depths at stations in or near the area:\n",
        "\n",
        "\\begin{align}\n",
        "Average \\quad depth \\quad of \\quad rainfall = \\frac{(N_1 + N_2 + N_3 + N_4)}{4}\n",
        "\\end{align}"
      ],
      "metadata": {
        "id": "cgPHuQFP3S1j"
      }
    },
    {
      "cell_type": "code",
      "source": [
        "def arithmetic_mean_method(N1, N2, N3, N4):\n",
        "  rainfall_depth = (N1 + N2 + N3 + N4)/ 4\n",
        "  return rainfall_depth\n",
        "\n",
        "average_rainfall = arithmetic_mean_method(N1, N2, N3, N4)\n",
        "print(average_rainfall)"
      ],
      "metadata": {
        "colab": {
          "base_uri": "https://localhost:8080/"
        },
        "id": "sy9s8gv74giV",
        "outputId": "983e3d98-2c4c-4a18-b5a6-3e205d5aa781"
      },
      "execution_count": 7,
      "outputs": [
        {
          "output_type": "stream",
          "name": "stdout",
          "text": [
            "18.75\n"
          ]
        }
      ]
    },
    {
      "cell_type": "code",
      "source": [],
      "metadata": {
        "id": "Mr21ljZR8IFi"
      },
      "execution_count": null,
      "outputs": []
    }
  ]
}